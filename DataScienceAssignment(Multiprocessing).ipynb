{
 "cells": [
  {
   "cell_type": "markdown",
   "id": "4f972343-ee2a-4fca-92ec-cfa2bf844290",
   "metadata": {},
   "source": [
    "Python-Assignment(Multiprocessing)"
   ]
  },
  {
   "cell_type": "markdown",
   "id": "43b76df1-5284-4b89-80c7-23a21399aa9b",
   "metadata": {},
   "source": [
    "Question-1- What is multiprocessing in python? Why is it useful?"
   ]
  },
  {
   "cell_type": "markdown",
   "id": "6e17907e-1d00-4596-9b11-1108777dd7d7",
   "metadata": {},
   "source": [
    "Answer-1-Multiprocessing in Python refers to the ability to create and manage multiple processes in a Python program. Each process is a separate and independent execution unit, and multiprocessing allows these processes to run concurrently, making use of multiple CPU cores. It is a parallel processing technique and is useful for several reasons:"
   ]
  },
  {
   "cell_type": "markdown",
   "id": "fe6a09ef-eced-497f-8ce3-045f1018e392",
   "metadata": {},
   "source": [
    "1- Improved Performance:One of the primary advantages of multiprocessing is improved performance, especially on multi-core processors. By utilizing multiple processes, CPU-bound tasks can be executed in parallel, leading to faster execution times.\n",
    "2- Utilization of Multiple CPU Cores:Modern computers often come with multi-core processors. Multiprocessing allows you to take full advantage of these multiple CPU cores, distributing tasks across them for parallel execution."
   ]
  },
  {
   "cell_type": "markdown",
   "id": "62931cfe-2bf2-4fd0-9a10-221d55eab411",
   "metadata": {},
   "source": [
    "Question-2- What are the differences between multiprocessing and multithreading?"
   ]
  },
  {
   "cell_type": "markdown",
   "id": "99d29940-7042-480f-9048-d87187676ba5",
   "metadata": {},
   "source": [
    "Answer-2-Multiprocessing and multithreading are both techniques used for achieving concurrency and parallelism in a program, but they differ in several key aspects. Here are the main differences between multiprocessing and multithreading:"
   ]
  },
  {
   "cell_type": "code",
   "execution_count": 1,
   "id": "f6d8d5c5-dc61-48c0-997b-090497a62957",
   "metadata": {},
   "outputs": [],
   "source": [
    "#Processes vs. Threads:"
   ]
  },
  {
   "cell_type": "markdown",
   "id": "152fda02-b214-4ea9-8a39-2eaa4889b9b2",
   "metadata": {},
   "source": [
    "1-Multiprocessing: In multiprocessing, multiple processes are created, and each process runs in its own separate memory space and has its own Python interpreter. Processes are independent of each other.\n",
    "2-Multithreading: In multithreading, multiple threads are created within a single process, and they share the same memory space and Python interpreter. Threads within the same process can communicate more easily."
   ]
  },
  {
   "cell_type": "code",
   "execution_count": 2,
   "id": "e7e49f9b-0d05-4604-abb2-5c212fca0c01",
   "metadata": {},
   "outputs": [],
   "source": [
    "#Concurrency Model:"
   ]
  },
  {
   "cell_type": "markdown",
   "id": "8a529bb2-0633-42b6-807e-9d5de1115ac9",
   "metadata": {},
   "source": [
    "1-Multiprocessing: Processes run concurrently, and they can execute tasks in parallel on multi-core processors. This is suitable for CPU-bound tasks.\n",
    "2-Multithreading: Threads run concurrently within the same process and share resources, such as memory. Multithreading is often used for I/O-bound tasks."
   ]
  },
  {
   "cell_type": "markdown",
   "id": "37dacde9-6dad-4bef-90bd-04c9b4847fcb",
   "metadata": {},
   "source": [
    "Question-3- Write a python code to create a process using the multiprocessing module."
   ]
  },
  {
   "cell_type": "markdown",
   "id": "30606469-3e11-433e-a891-37a8e7603fa3",
   "metadata": {},
   "source": [
    "Answer-3-"
   ]
  },
  {
   "cell_type": "code",
   "execution_count": 3,
   "id": "75dd2fff-038b-4511-b46d-9921adef1299",
   "metadata": {},
   "outputs": [],
   "source": [
    "import multiprocessing\n",
    "import logging"
   ]
  },
  {
   "cell_type": "code",
   "execution_count": 4,
   "id": "dad88189-5811-428c-9284-26ea01fb66fa",
   "metadata": {},
   "outputs": [],
   "source": [
    "logging.basicConfig(filename='multiprocessing_log.log', level=logging.INFO)\n",
    "\n",
    "def my_function():\n",
    "    logging.info(\"Child process is running.\")\n",
    "    for i in range(1, 4):\n",
    "        logging.info(f\"Child process working, step {i}\")\n",
    "    logging.info(\"Child process completed its work.\")\n",
    "\n",
    "if __name__ == \"__main__\":\n",
    "    child_process = multiprocessing.Process(target=my_function)"
   ]
  },
  {
   "cell_type": "code",
   "execution_count": 5,
   "id": "30e74391-5479-4df4-9b91-c1f4b58b4527",
   "metadata": {},
   "outputs": [],
   "source": [
    "child_process.start()"
   ]
  },
  {
   "cell_type": "code",
   "execution_count": 6,
   "id": "4bd3feb9-8b1c-4857-8406-29ba5411f718",
   "metadata": {},
   "outputs": [],
   "source": [
    "child_process.join()"
   ]
  },
  {
   "cell_type": "code",
   "execution_count": 7,
   "id": "75c1120d-29f8-46da-b059-34c616f8a275",
   "metadata": {},
   "outputs": [],
   "source": [
    "logging.info(\"Main process is done.\")"
   ]
  },
  {
   "cell_type": "markdown",
   "id": "4f85c0e9-e027-45ea-a5ca-58cdd5d77177",
   "metadata": {},
   "source": [
    "Question-4- What is a multiprocessing pool in python? Why is it used?"
   ]
  },
  {
   "cell_type": "markdown",
   "id": "0e36e060-d931-4dac-a78f-75cc54847b91",
   "metadata": {},
   "source": [
    "Answer-4-A multiprocessing pool is a high-level construct provided by the multiprocessing module that allows you to efficiently distribute and parallelize the execution of functions across multiple processes. It's particularly useful for performing tasks concurrently on a large dataset or for CPU-bound operations where you want to take advantage of multiple CPU cores."
   ]
  },
  {
   "cell_type": "code",
   "execution_count": 8,
   "id": "0b480095-a676-46f6-a274-4dadc0aa1ad8",
   "metadata": {},
   "outputs": [],
   "source": [
    "import multiprocessing\n",
    "import logging"
   ]
  },
  {
   "cell_type": "code",
   "execution_count": 9,
   "id": "a3130b45-4ab2-41c1-99ad-0902aef70cd3",
   "metadata": {},
   "outputs": [
    {
     "name": "stdout",
     "output_type": "stream",
     "text": [
      "[2, 4, 6, 8, 10]\n"
     ]
    }
   ],
   "source": [
    "logging.basicConfig(filename='multiprocessing_pool_log.log', level=logging.INFO)\n",
    "\n",
    "def process_data(data):\n",
    "    logging.info(f\"Processing data: {data}\")\n",
    "    result = data * 2\n",
    "    logging.info(f\"Processed data: {result}\")\n",
    "    return result\n",
    "\n",
    "if __name__ == \"__main__\":\n",
    "    pool = multiprocessing.Pool(processes=4)\n",
    "\n",
    "    data = [1, 2, 3, 4, 5]\n",
    "\n",
    "    results = pool.map(process_data, data)\n",
    "\n",
    "    pool.close()\n",
    "    pool.join()\n",
    "\n",
    "    logging.info(\"All processes completed.\")\n",
    "    print(results) "
   ]
  },
  {
   "cell_type": "markdown",
   "id": "b650b7cf-eea9-4697-912d-5c6284cd3f1b",
   "metadata": {},
   "source": [
    "Question-5- How can we create a pool of worker processes in python using the multiprocessing module?"
   ]
  },
  {
   "cell_type": "markdown",
   "id": "38728e9d-49e1-41e6-8817-684098e983a1",
   "metadata": {},
   "source": [
    "Answer-5-"
   ]
  },
  {
   "cell_type": "code",
   "execution_count": 10,
   "id": "3503b072-8028-43a9-849a-c33e16a99ff5",
   "metadata": {},
   "outputs": [],
   "source": [
    "import multiprocessing\n",
    "import logging\n",
    "\n",
    "logging.basicConfig(filename='multiprocessing_pool_log.log', level=logging.INFO)\n",
    "\n",
    "def process_data(data):\n",
    "    logging.info(f\"Processing data: {data}\")\n",
    "    result = data * 2\n",
    "    logging.info(f\"Processed data: {result}\")\n",
    "    return result\n",
    "\n",
    "if __name__ == \"__main__\":\n",
    "    pool = multiprocessing.Pool(processes=4)  "
   ]
  },
  {
   "cell_type": "code",
   "execution_count": 11,
   "id": "711acae4-3d09-4ae6-8a6c-e026e0786011",
   "metadata": {},
   "outputs": [],
   "source": [
    "data = [1, 2, 3, 4, 5]"
   ]
  },
  {
   "cell_type": "code",
   "execution_count": 12,
   "id": "3f368620-c0a0-4ae2-9c7c-a51aed647d2d",
   "metadata": {},
   "outputs": [],
   "source": [
    "results = pool.map(process_data, data)"
   ]
  },
  {
   "cell_type": "code",
   "execution_count": 13,
   "id": "23196b61-8765-42f2-864b-ee347a5e3db5",
   "metadata": {},
   "outputs": [],
   "source": [
    "pool.close()"
   ]
  },
  {
   "cell_type": "code",
   "execution_count": 14,
   "id": "b2b7d671-8135-44eb-9049-5624a317ac13",
   "metadata": {},
   "outputs": [],
   "source": [
    "pool.join()"
   ]
  },
  {
   "cell_type": "code",
   "execution_count": 16,
   "id": "e4f7840e-7e92-42a3-ba1b-8ac6faf47799",
   "metadata": {},
   "outputs": [
    {
     "name": "stdout",
     "output_type": "stream",
     "text": [
      "[2, 4, 6, 8, 10]\n"
     ]
    }
   ],
   "source": [
    "logging.info(\"All processes completed.\")\n",
    "print(results)"
   ]
  },
  {
   "cell_type": "markdown",
   "id": "45361269-91c4-4369-8311-00d0c04f645d",
   "metadata": {},
   "source": [
    "Question-6- Write a python program to create 4 processes, each process should print a different number using the\n",
    "multiprocessing module in python."
   ]
  },
  {
   "cell_type": "markdown",
   "id": "233df839-291a-456b-a8f8-9157024f7602",
   "metadata": {},
   "source": [
    "Answer-6-"
   ]
  },
  {
   "cell_type": "code",
   "execution_count": null,
   "id": "8b30c57b-b17c-491f-90ba-474f9ae51f59",
   "metadata": {},
   "outputs": [],
   "source": [
    "import multiprocessing\n",
    "import logging\n",
    "\n",
    "# Configure the logger\n",
    "logging.basicConfig(filename='multiprocessing_numbers.log', level=logging.INFO)\n",
    "\n",
    "# Define a function for each process to print a number\n",
    "def print_number(number):\n",
    "    logging.info(f\"Process {number} prints the number {number}\")\n",
    "\n",
    "if __name__ == \"__main__\":\n",
    "    # Create a list of numbers to assign to each process\n",
    "    numbers = [1, 2, 3, 4]\n",
    "\n",
    "    # Create and start 4 processes\n",
    "    processes = []\n",
    "    for num in numbers:\n",
    "        process = multiprocessing.Process(target=print_number, args=(num,))\n",
    "        processes.append(process)\n",
    "        process.start()\n",
    "\n",
    "    # Wait for all processes to complete\n",
    "    for process in processes:\n",
    "        process.join()\n",
    "\n",
    "    logging.info(\"All processes have completed.\")"
   ]
  }
 ],
 "metadata": {
  "kernelspec": {
   "display_name": "Python 3 (ipykernel)",
   "language": "python",
   "name": "python3"
  },
  "language_info": {
   "codemirror_mode": {
    "name": "ipython",
    "version": 3
   },
   "file_extension": ".py",
   "mimetype": "text/x-python",
   "name": "python",
   "nbconvert_exporter": "python",
   "pygments_lexer": "ipython3",
   "version": "3.10.8"
  }
 },
 "nbformat": 4,
 "nbformat_minor": 5
}
